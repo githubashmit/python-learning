{
  "nbformat": 4,
  "nbformat_minor": 0,
  "metadata": {
    "colab": {
      "provenance": [],
      "authorship_tag": "ABX9TyPnRF+RJYw6wHJm1n51/dxE",
      "include_colab_link": true
    },
    "kernelspec": {
      "name": "python3",
      "display_name": "Python 3"
    },
    "language_info": {
      "name": "python"
    }
  },
  "cells": [
    {
      "cell_type": "markdown",
      "metadata": {
        "id": "view-in-github",
        "colab_type": "text"
      },
      "source": [
        "<a href=\"https://colab.research.google.com/github/githubashmit/python-learning/blob/main/RegularExpression.ipynb\" target=\"_parent\"><img src=\"https://colab.research.google.com/assets/colab-badge.svg\" alt=\"Open In Colab\"/></a>"
      ]
    },
    {
      "cell_type": "code",
      "execution_count": null,
      "metadata": {
        "colab": {
          "base_uri": "https://localhost:8080/"
        },
        "id": "DOqWYJwaVo5Z",
        "outputId": "b38a4ebe-2d42-4f49-d49a-0b496dd61e9a"
      },
      "outputs": [
        {
          "output_type": "stream",
          "name": "stdout",
          "text": [
            "search exists\n"
          ]
        }
      ],
      "source": [
        "#Regular Expression:\n",
        "import re\n",
        "str=\"My name is Anurag\"\n",
        "a=re.search(\"^My.*Anurag$\",str)\n",
        "if a:\n",
        "  print(\"search exists\")\n",
        "else:\n",
        "  print(\"Search doesn't exists\")"
      ]
    },
    {
      "cell_type": "code",
      "source": [
        "import re\n",
        "str=\"My name is Anurag\"\n",
        "a=re.findall(\"n\",str)\n",
        "print(a)"
      ],
      "metadata": {
        "colab": {
          "base_uri": "https://localhost:8080/"
        },
        "id": "qJ_sckIkbfdc",
        "outputId": "9c048880-8c77-4cc9-a93e-9d044f1202ce"
      },
      "execution_count": null,
      "outputs": [
        {
          "output_type": "stream",
          "name": "stdout",
          "text": [
            "['n', 'n']\n"
          ]
        }
      ]
    },
    {
      "cell_type": "code",
      "source": [
        "import re\n",
        "str=\"My name is Anurag\"\n",
        "a=re.split(\"\\s\",str,1)\n",
        "print(a)\n"
      ],
      "metadata": {
        "colab": {
          "base_uri": "https://localhost:8080/"
        },
        "id": "D5KLJVS3cJ6-",
        "outputId": "e57ee0ca-c74a-4cb6-ac71-5be43d7e3def"
      },
      "execution_count": null,
      "outputs": [
        {
          "output_type": "stream",
          "name": "stdout",
          "text": [
            "['My', 'name is Anurag']\n"
          ]
        }
      ]
    },
    {
      "cell_type": "code",
      "source": [
        "import re\n",
        "str=\"My name is Anurag\"\n",
        "a=re.sub(\"\\s\",\"2\",str,2)\n",
        "print(a)"
      ],
      "metadata": {
        "colab": {
          "base_uri": "https://localhost:8080/"
        },
        "id": "iJ83PohSenOM",
        "outputId": "2528a155-e669-4716-ce02-bfd90fced5c0"
      },
      "execution_count": null,
      "outputs": [
        {
          "output_type": "stream",
          "name": "stdout",
          "text": [
            "My2name2is Anurag\n"
          ]
        }
      ]
    },
    {
      "cell_type": "code",
      "source": [],
      "metadata": {
        "id": "YjmdOcEwg1Vt"
      },
      "execution_count": null,
      "outputs": []
    }
  ]
}