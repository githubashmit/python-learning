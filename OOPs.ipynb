{
  "nbformat": 4,
  "nbformat_minor": 0,
  "metadata": {
    "colab": {
      "provenance": [],
      "authorship_tag": "ABX9TyP7hVfNTWyUI7Sf7c/encJm",
      "include_colab_link": true
    },
    "kernelspec": {
      "name": "python3",
      "display_name": "Python 3"
    },
    "language_info": {
      "name": "python"
    }
  },
  "cells": [
    {
      "cell_type": "markdown",
      "metadata": {
        "id": "view-in-github",
        "colab_type": "text"
      },
      "source": [
        "<a href=\"https://colab.research.google.com/github/githubashmit/python-learning/blob/main/OOPs.ipynb\" target=\"_parent\"><img src=\"https://colab.research.google.com/assets/colab-badge.svg\" alt=\"Open In Colab\"/></a>"
      ]
    },
    {
      "cell_type": "code",
      "execution_count": null,
      "metadata": {
        "id": "2kgZPk9xGkmQ"
      },
      "outputs": [],
      "source": [
        "#Object Oriented Programming,OOPs\n",
        "'''1.Abstraction\n",
        "   2.Encapsulation\n",
        "   3.Polymorphism\n",
        "   4.Inheritance'''\n",
        "#Class\n",
        "#Object"
      ]
    },
    {
      "cell_type": "code",
      "source": [
        "map , reduce , filter & lambda function \n"
      ],
      "metadata": {
        "id": "6DdDfu7AiryE"
      },
      "execution_count": null,
      "outputs": []
    },
    {
      "cell_type": "code",
      "source": [
        "#class creation & defination\n",
        "class Car:\n",
        "  height=10\n",
        "tiago = Car() #object creation\n",
        "print(tiago.height)# calling of value in the class through object"
      ],
      "metadata": {
        "colab": {
          "base_uri": "https://localhost:8080/"
        },
        "id": "JECGfFthkeRe",
        "outputId": "7ea9a044-cc5a-4db2-f425-71a9e39fc41b"
      },
      "execution_count": null,
      "outputs": [
        {
          "output_type": "stream",
          "name": "stdout",
          "text": [
            "10\n"
          ]
        }
      ]
    },
    {
      "cell_type": "code",
      "source": [
        "class Student:\n",
        "  def __init__(self , name , reg):\n",
        "    self.name = name\n",
        "    self.reg= reg\n",
        "\n",
        "s1=Student(\"Anurag\",4115007)\n",
        "print(s1.name)\n",
        "print(s1.reg)\n",
        "#proctered"
      ],
      "metadata": {
        "colab": {
          "base_uri": "https://localhost:8080/"
        },
        "id": "cdA6etFaoaO8",
        "outputId": "0a38daa2-ddd5-4ecf-d31a-add26e4b9e86"
      },
      "execution_count": null,
      "outputs": [
        {
          "output_type": "stream",
          "name": "stdout",
          "text": [
            "Anurag\n",
            "4115007\n"
          ]
        }
      ]
    },
    {
      "cell_type": "code",
      "source": [
        "class Student:\n",
        "  def __init__(self,name,reg):\n",
        "    self.name= name\n",
        "    self.reg=reg\n",
        "  def pr(self):\n",
        "    print(\"Hello name is \"+ self.name)\n",
        "s1=Student(\"anurag\",4115007)\n",
        "s1.pr()"
      ],
      "metadata": {
        "colab": {
          "base_uri": "https://localhost:8080/"
        },
        "id": "q61EvNQ_vNGG",
        "outputId": "151a9420-cdef-4209-816a-ccf3d9e55fe4"
      },
      "execution_count": null,
      "outputs": [
        {
          "output_type": "stream",
          "name": "stdout",
          "text": [
            "Hello name is anurag\n"
          ]
        }
      ]
    },
    {
      "cell_type": "code",
      "source": [
        "#inheritance\n",
        "class Person:\n",
        "  def __init__(self ,name ,age):\n",
        "    self.name = name\n",
        "    self.age = age\n",
        "  def display(self):\n",
        "    print(self.name , self.age)\n",
        "class Employee(Person):\n",
        "  pass\n",
        "a=Employee(\"Anurag\",20)\n",
        "a.display()"
      ],
      "metadata": {
        "colab": {
          "base_uri": "https://localhost:8080/"
        },
        "id": "v_DN78uFRL0d",
        "outputId": "87837b05-d1d9-4012-efe3-fa610a8ec191"
      },
      "execution_count": null,
      "outputs": [
        {
          "output_type": "stream",
          "name": "stdout",
          "text": [
            "Anurag 20\n"
          ]
        }
      ]
    },
    {
      "cell_type": "code",
      "source": [
        "class Person:\n",
        "  def __init__(self , name , age):\n",
        "    self.name = name\n",
        "    self.age=age\n",
        "  def display(self):\n",
        "    print(self.name , self.age)\n",
        "class Employee(Person):\n",
        "  def __init__(self , name ,age):\n",
        "    Person.__init__(self,name ,age)\n",
        "a=Employee(\"Anurag\",20)\n",
        "a.display()"
      ],
      "metadata": {
        "id": "omF6rUoiLQEA",
        "colab": {
          "base_uri": "https://localhost:8080/"
        },
        "outputId": "7e1af7d3-a9ab-411f-bf01-9570fcc1b0a6"
      },
      "execution_count": null,
      "outputs": [
        {
          "output_type": "stream",
          "name": "stdout",
          "text": [
            "Anurag 20\n"
          ]
        }
      ]
    },
    {
      "cell_type": "code",
      "source": [
        "class Person:\n",
        "  def __init__(self , name , age):\n",
        "    self.name= name\n",
        "    self.age=age\n",
        "  def display(self):\n",
        "    print(self.name , self.age)\n",
        "\n",
        "\n",
        "class Employee(Person):\n",
        "  def __init__(self , name , age, year):\n",
        "    super().__init__(name , age)\n",
        "    self.year = year\n",
        "  def welcome(self):\n",
        "    print(\"Welcome\",self.name,\"you are\",self.age,\"years old\",\"and your year is\",self.year)\n",
        "a=Employee(\"Anurag\",20,2022)\n",
        "a.welcome()\n",
        "a.display()"
      ],
      "metadata": {
        "id": "1J4MLUy_PRSd",
        "colab": {
          "base_uri": "https://localhost:8080/"
        },
        "outputId": "3d361026-6965-4769-b940-a641865a1cc1"
      },
      "execution_count": null,
      "outputs": [
        {
          "output_type": "stream",
          "name": "stdout",
          "text": [
            "Welcome Anurag you are 20 years old and your year is 2022\n",
            "Anurag 20\n"
          ]
        }
      ]
    },
    {
      "cell_type": "code",
      "source": [
        "class Animal:\n",
        "  def speak(self ):\n",
        "    print(\"Animal is speaking\")\n",
        "class Dog(Animal):\n",
        "  def bark(self):\n",
        "    print(\"Dog Barking\")\n",
        "class Puppy(Dog):\n",
        "  def eat(self):\n",
        "    print(\"Puppy is eating bread\")\n",
        "a=Puppy()\n",
        "a.speak()\n",
        "a.bark()\n",
        "a.eat()"
      ],
      "metadata": {
        "colab": {
          "base_uri": "https://localhost:8080/"
        },
        "id": "6xkhWTS3rndP",
        "outputId": "9dfbe431-fe5f-4ff8-f907-56bbadf2f8e1"
      },
      "execution_count": null,
      "outputs": [
        {
          "output_type": "stream",
          "name": "stdout",
          "text": [
            "Animal is speaking\n",
            "Dog Barking\n",
            "Puppy is eating bread\n"
          ]
        }
      ]
    },
    {
      "cell_type": "code",
      "source": [
        "class calc1:\n",
        "  def add(self ,a,b):\n",
        "    return a+b\n",
        "class calc2:\n",
        "  def multi(self , a ,b):\n",
        "    return a*b\n",
        "class calc3(calc1,calc2):\n",
        "  def div(self,a,b):\n",
        "    return a/b\n",
        "a=calc3()\n",
        "print(a.add(10,20))\n",
        "print(a.multi(5,30))\n",
        "print(a.div(69,50))"
      ],
      "metadata": {
        "colab": {
          "base_uri": "https://localhost:8080/"
        },
        "id": "i34Spao2tf93",
        "outputId": "9bb60364-ca96-49b2-c3a8-501cbc0f5030"
      },
      "execution_count": null,
      "outputs": [
        {
          "output_type": "stream",
          "name": "stdout",
          "text": [
            "30\n",
            "150\n",
            "1.38\n"
          ]
        }
      ]
    },
    {
      "cell_type": "code",
      "source": [
        "#Polymorphism\n",
        "print(len(\"cipherSchools\"))\n",
        "print(len([1,2,3,4,5]))"
      ],
      "metadata": {
        "id": "hOCsn9QUxmjX",
        "colab": {
          "base_uri": "https://localhost:8080/"
        },
        "outputId": "3ac3ee12-738b-47ca-c6aa-4994798e10dd"
      },
      "execution_count": null,
      "outputs": [
        {
          "output_type": "stream",
          "name": "stdout",
          "text": [
            "13\n",
            "5\n"
          ]
        }
      ]
    },
    {
      "cell_type": "code",
      "source": [
        "def add(a,b,c=0):\n",
        "  return a+b+c\n",
        "print(add(1,2))\n",
        "print(add(1,2,3))"
      ],
      "metadata": {
        "colab": {
          "base_uri": "https://localhost:8080/"
        },
        "id": "2dy_E-4Y-xqw",
        "outputId": "beee3b49-a7fd-49e6-c02f-998604faf25a"
      },
      "execution_count": null,
      "outputs": [
        {
          "output_type": "stream",
          "name": "stdout",
          "text": [
            "3\n",
            "6\n"
          ]
        }
      ]
    },
    {
      "cell_type": "code",
      "source": [
        "print(\"Don't sleep while coding\")"
      ],
      "metadata": {
        "id": "bjJKFzn1BiR9"
      },
      "execution_count": null,
      "outputs": []
    },
    {
      "cell_type": "markdown",
      "source": [
        "Polymorphism with Inheritance"
      ],
      "metadata": {
        "id": "D8ZFpL_BDEph"
      }
    },
    {
      "cell_type": "code",
      "source": [
        "class Bird:\n",
        "  def intro(self):\n",
        "    print(\"Hi this is a bird class\")\n",
        "  def flight(self):\n",
        "    print(\"Most of the bird can fly\")\n",
        "class Parrot(Bird):\n",
        "  def flight(self):\n",
        "    print(\"Parrots can fly\")\n",
        "class Ostrich(Bird):\n",
        "  def flight(self):\n",
        "    print(\"ostric cannot fly\")\n",
        "obj1=Bird()\n",
        "obj2=Parrot()\n",
        "obj3=Ostrich()\n",
        "obj1.intro()\n",
        "obj1.flight()\n",
        "obj2.intro()\n",
        "obj2.flight()\n",
        "obj3.intro()\n",
        "obj3.flight()"
      ],
      "metadata": {
        "colab": {
          "base_uri": "https://localhost:8080/"
        },
        "id": "0vj_p44MC2a3",
        "outputId": "7a2832fb-2bc4-436d-bcab-22a31530523b"
      },
      "execution_count": null,
      "outputs": [
        {
          "output_type": "stream",
          "name": "stdout",
          "text": [
            "Hi this is a bird class\n",
            "Most of the bird can fly\n",
            "Hi this is a bird class\n",
            "Parrots can fly\n",
            "Hi this is a bird class\n",
            "ostric cannot fly\n"
          ]
        }
      ]
    },
    {
      "cell_type": "code",
      "source": [
        "class India():\n",
        "  def capital(self):\n",
        "    print(\"New Delhi is the capital of India\")\n",
        "  def language(self):\n",
        "    print(\"Many laguages are spoken in India\")\n",
        "class USA():\n",
        "  def capital(self):\n",
        "    print(\"Washington DC is the capital of America\")\n",
        "  def language(self):\n",
        "    print(\"English is the primary language spoken\")\n",
        "def test(obj):\n",
        "  obj.capital()\n",
        "  obj.language()\n",
        "obj1=India()\n",
        "obj2=USA()\n",
        "test(obj1)\n",
        "test(obj2)"
      ],
      "metadata": {
        "colab": {
          "base_uri": "https://localhost:8080/"
        },
        "id": "M4NM9kCeLMMA",
        "outputId": "ab164c7a-bf26-4908-a34d-e8d600306b07"
      },
      "execution_count": null,
      "outputs": [
        {
          "output_type": "stream",
          "name": "stdout",
          "text": [
            "New Delhi is the capital of India\n",
            "Many laguages are spoken in India\n",
            "Washington DC is the capital of America\n",
            "English is the primary language spoken\n"
          ]
        }
      ]
    },
    {
      "cell_type": "code",
      "source": [],
      "metadata": {
        "id": "o8_Wb9mQOTKu"
      },
      "execution_count": null,
      "outputs": []
    }
  ]
}